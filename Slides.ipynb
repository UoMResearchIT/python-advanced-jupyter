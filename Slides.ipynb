{
 "cells": [
  {
   "cell_type": "markdown",
   "metadata": {
    "collapsed": true,
    "slideshow": {
     "slide_type": "slide"
    }
   },
   "source": [
    "# \"Advanced\" Python\n",
    "\n",
    "Initial tasks:\n",
    "\n",
    "1. Log into a PC (or have your laptop ready to use)\n",
    "2. Check you can start Spyder\n",
    "3. Open the course notes page at: \n",
    "  * https://github.com/AnnAnnFryingPan/python-advanced-jupyter(https://github.com/AnnAnnFryingPan/python-advanced-jupyter)\n",
    "4. There is no sign-in sheet.  Attendance is recorded via the feedback form:\n",
    "  * [https://goo.gl/forms/YZJ05PzX9tPFEtuV2](https://goo.gl/forms/YZJ05PzX9tPFEtuV2)\n",
    "  * Shorten URL: [https://bit.ly/2xP95Ef](https://bit.ly/2xP95Ef)"
   ]
  },
  {
   "cell_type": "markdown",
   "metadata": {
    "slideshow": {
     "slide_type": "slide"
    }
   },
   "source": [
    "## Housekeeping\n",
    "\n",
    "* Fire exit\n",
    "* Toilets\n",
    "* Coffee breaks and lunch\n",
    "* Course timing\n",
    "* Feedback ([form](https://goo.gl/forms/YZJ05PzX9tPFEtuV2) and verbal)\n"
   ]
  },
  {
   "cell_type": "markdown",
   "metadata": {
    "slideshow": {
     "slide_type": "slide"
    }
   },
   "source": [
    "## Aims of the day\n",
    "\n",
    "* Strengthening python knowledge, oriented towards python numerical tools\n",
    "* Does not teach all of Python or all data analysis with Python\n",
    "* The aim is to teach you enough know how to find out more"
   ]
  },
  {
   "cell_type": "markdown",
   "metadata": {
    "slideshow": {
     "slide_type": "slide"
    }
   },
   "source": [
    "## Research IT\n",
    "Described on the [IT Services website](http://www.itservices.manchester.ac.uk/research/)\n",
    "\n",
    "Announcements given via the [Research IT blog](https://researchitnews.org/) and newsletter (signup via the blog page) and on Twitter [@﻿UoM_eResearch](http://twitter.com/uom_eresearch)\n",
    "\n",
    "* [Training courses](http://ri.itservices.manchester.ac.uk/training) teach computing skills for research\n",
    "* Advice and guidance about research software\n",
    "* Access to specialist support and consultancy e.g. code reviews\n",
    "* Access to HPC systems - where you can run Python.\n",
    "* [Full list of services on offer](http://www.itservices.manchester.ac.uk/research/services/)\n",
    "\n",
    "Get in touch via the [support centre](http://supportcentre.manchester.ac.uk/)\n"
   ]
  },
  {
   "cell_type": "markdown",
   "metadata": {
    "slideshow": {
     "slide_type": "slide"
    }
   },
   "source": [
    "## Teaching methods\n",
    "\n",
    "* The course is based on the [Software Carpentry](https://software-carpentry.org) method.\n",
    "    + Abridged\n",
    "    + Doesn't cover version control, but we offer [a separate course on this](http://app.manchester.ac.uk/rgit)"
   ]
  },
  {
   "cell_type": "markdown",
   "metadata": {
    "slideshow": {
     "slide_type": "slide"
    }
   },
   "source": [
    "## Teaching methods\n",
    "\n",
    "* The course is _interactive_\n",
    "    + These are the only slides\n",
    "* Getting help\n",
    "    + The sticky notes \n",
    "* Course notes\n",
    "    + Try to type-along without the notes\n",
    "    + All the code is in the notes (Extras menu); you can cut and paste this into Jupyter.\n",
    "    + The slides will remain online after the course.\n",
    "\n",
    "\n"
   ]
  },
  {
   "cell_type": "markdown",
   "metadata": {
    "slideshow": {
     "slide_type": "slide"
    }
   },
   "source": [
    "## Before to get started\n",
    "\n",
    "* This class is a follow up of the introduction of python\n",
    "\n",
    "\n",
    "* Please download the data file: [data](https://github.com/gruel/python-advanced-jupyter/raw/master/data.zip)\n",
    "\n",
    "\n",
    "* Create a python-programming directory in your C:\\Work directory\n",
    "    \n",
    "```bash\n",
    "> mkdir C:\\Work\\python-programming\n",
    "```\n",
    "        \n",
    "* Move the file to the directory that you created.\n",
    "\n",
    "* Unzip the file.\n",
    "\n",
    "* Start Spyder\n",
    "\n",
    "##  Let's get started\n",
    "\n",
    "https://github.com/AnnAnnFryingPan/python-advanced-jupyter"
   ]
  },
  {
   "cell_type": "markdown",
   "metadata": {
    "slideshow": {
     "slide_type": "slide"
    }
   },
   "source": [
    "## Useful links\n",
    "\n",
    "### Getting python\n",
    "\n",
    "* python: https://python.org \n",
    "* anaconda: https://https://www.anaconda.com/download\n",
    "\n",
    "\n",
    "### Documentation\n",
    "\n",
    "* python documentation: https://docs.python.org/\n",
    "\n",
    "### Useful libraries\n",
    "\n",
    "* numpy: http://www.numpy.org/\n",
    "* numpy documentation: https://docs.scipy.org/doc/numpy/\n",
    "* matplotlib: https://matplotlib.org/\n",
    "* matplotlib gallery: https://matplotlib.org/gallery/index.html\n",
    "* astropy: http://www.astropy.org/\n",
    "* astropy documentation: http://docs.astropy.org/en/stable/"
   ]
  }
 ],
 "metadata": {
  "celltoolbar": "Slideshow",
  "kernelspec": {
   "display_name": "Python 3",
   "language": "python",
   "name": "python3"
  },
  "language_info": {
   "codemirror_mode": {
    "name": "ipython",
    "version": 3
   },
   "file_extension": ".py",
   "mimetype": "text/x-python",
   "name": "python",
   "nbconvert_exporter": "python",
   "pygments_lexer": "ipython3",
   "version": "3.6.7"
  }
 },
 "nbformat": 4,
 "nbformat_minor": 2
}
