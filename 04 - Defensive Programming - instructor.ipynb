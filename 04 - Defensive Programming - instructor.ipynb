{
 "cells": [
  {
   "cell_type": "markdown",
   "metadata": {},
   "source": [
    "# Defensive Programming"
   ]
  },
  {
   "cell_type": "markdown",
   "metadata": {},
   "source": [
    " "
   ]
  },
  {
   "cell_type": "markdown",
   "metadata": {},
   "source": [
    "In this episode we are going to learn a python structure which will help us to properly manage the errors that can be encountered when executing our code.\n",
    "\n",
    "In science most developers write code for themselves and do not feel the need to use such tools. Nowadays scientists have to share their work more and funding agencies are starting to ask for the code used in published experiments. \n",
    "\n",
    "Furthermore, applications are not expected to crash and we are going to learn how to avoid this non desirable behaviour. "
   ]
  },
  {
   "cell_type": "markdown",
   "metadata": {},
   "source": [
    "<section class=\"objectives panel panel-warning\">\n",
    "<div class=\"panel-heading\">\n",
    "<h2><span class=\"fa fa-certificate\"></span> Question</h2>\n",
    "</div>\n",
    "<br/>\n",
    "Please look at the following code. Can you point a fundamental problem with this test?\n",
    "<br/>\n",
    "</section>"
   ]
  },
  {
   "cell_type": "code",
   "execution_count": null,
   "metadata": {},
   "outputs": [],
   "source": [
    "val = 1\n",
    "\n",
    "if val>0 and val<10:\n",
    "    print('Value: ', val, 'is a digit.')\n",
    "elif val==0:\n",
    "    print('Value ', val, 'is nul')\n",
    "else:\n",
    "    print('Value: ', val, 'is a number.')"
   ]
  },
  {
   "cell_type": "markdown",
   "metadata": {},
   "source": [
    "## Errors and Exceptions"
   ]
  },
  {
   "cell_type": "markdown",
   "metadata": {},
   "source": [
    "What if we tried the previous code but instead of a number, we assign a string to the variable *val*:"
   ]
  },
  {
   "cell_type": "code",
   "execution_count": null,
   "metadata": {
    "scrolled": true
   },
   "outputs": [],
   "source": [
    "val = 'a'\n",
    "\n",
    "if val>0 and val<10:\n",
    "    print('Value: ', val, 'is a digit.')\n",
    "elif val==0:\n",
    "    print('Value ', val, 'is nul')\n",
    "else:\n",
    "    print('Value: ', val, 'is a number.')"
   ]
  },
  {
   "cell_type": "markdown",
   "metadata": {},
   "source": [
    "We are getting an error because you cannot compare a *string* and a *number*. \n",
    "\n",
    "There are some languages like *C* where that comparison will not create an error (this can create bugs not very easy to detect) but *Python* is not one of these.\n",
    "\n",
    "How can we deal with this situation? \n",
    "\n",
    "Python provides a tool to deal with this error properly..."
   ]
  },
  {
   "cell_type": "markdown",
   "metadata": {},
   "source": [
    "<div style='background:#B1E0A8; padding:10px 10px 10px 10px;'>\n",
    "<H2> Challenges </H2>\n",
    "\n",
    " <ol>\n",
    " <li> \n",
    "Have a go at writing a small piece of code to avoid this potential crash in our software.\n",
    "<br>\n",
    "</div>"
   ]
  },
  {
   "cell_type": "markdown",
   "metadata": {},
   "source": [
    "### First solution\n",
    "\n",
    "We can use a simple *if* statement to test that *val* can be use in a numerical comparison"
   ]
  },
  {
   "cell_type": "code",
   "execution_count": null,
   "metadata": {
    "scrolled": true
   },
   "outputs": [],
   "source": []
  },
  {
   "cell_type": "markdown",
   "metadata": {},
   "source": [
    "It is possible to manage this specific error using the *if* *else* structure but it is tedious since the developer will have to implement a lot of similar tests to cover a large range of possible errors. \n",
    "\n",
    "### Second solution\n",
    "\n",
    "Thankfully *Python* provides a structure which will allow the developer to properly manage any possible errors.\n",
    "\n",
    "The try-except structure:\n",
    "\n",
    "```python\n",
    "try:\n",
    "    ...\n",
    "except <an error>:\n",
    "    ...\n",
    "finally:\n",
    "    ...\n",
    "```"
   ]
  },
  {
   "cell_type": "code",
   "execution_count": null,
   "metadata": {},
   "outputs": [],
   "source": []
  },
  {
   "cell_type": "markdown",
   "metadata": {},
   "source": [
    "You do not have to know the exact type of the error to handle it properly."
   ]
  },
  {
   "cell_type": "code",
   "execution_count": null,
   "metadata": {},
   "outputs": [],
   "source": [
    "import sys\n",
    "\n",
    "val = 'a'\n",
    "\n",
    "try:\n",
    "    if val>0 and val<10:\n",
    "        print('Value: ', val, 'is a digit.')\n",
    "    elif val==0:\n",
    "        print('Value ', val, 'is nul')\n",
    "    else:\n",
    "        print('Value: ', val, 'is a number.')\n",
    "except:\n",
    "    print('Val is not a number')\n",
    "    print('Enter a new number')"
   ]
  },
  {
   "cell_type": "markdown",
   "metadata": {},
   "source": [
    "## Assert"
   ]
  },
  {
   "cell_type": "markdown",
   "metadata": {},
   "source": [
    "But sometimes, the developer prefers to have a crash with a meaningful error. It is possible to do a test *before* using the variable.\n",
    "\n",
    "(For example, this can be extremely useful in the case of large numerical calculations that take a long time to run and which will use certain types of variables in middle of them.)"
   ]
  },
  {
   "cell_type": "code",
   "execution_count": null,
   "metadata": {},
   "outputs": [],
   "source": [
    "val = 'a'\n",
    "\n",
    "assert type(val) is float or type(val) is int, \"Variable has to be a numerical object\" # or val is int\n",
    "\n",
    "if val>0 and val<10:\n",
    "    print('Value: ', val, 'is a digit.')\n",
    "elif val==0:\n",
    "    print('Value ', val, 'is nul')\n",
    "else:\n",
    "    print('Value: ', val, 'is a number.')\n",
    "    "
   ]
  },
  {
   "cell_type": "markdown",
   "metadata": {},
   "source": [
    "<div style='background:#B1E0A8; padding:10px 10px 10px 10px;'>\n",
    "<H2> Challenges </H2>\n",
    "\n",
    " <ol>\n",
    " <li>\n",
    " Write a try-except statement which will deal with a division by zero.\n",
    " </li>\n",
    " <br>\n",
    " hint: Python does have an error class for a division by zero called. Look at the python documentation:\n",
    "\n",
    "https://docs.python.org/3.3/library/exceptions.html#built-in-exceptions\n",
    " <br>\n",
    " </div>"
   ]
  },
  {
   "cell_type": "code",
   "execution_count": null,
   "metadata": {},
   "outputs": [],
   "source": []
  }
 ],
 "metadata": {
  "kernelspec": {
   "display_name": "Python 3",
   "language": "python",
   "name": "python3"
  },
  "language_info": {
   "codemirror_mode": {
    "name": "ipython",
    "version": 3
   },
   "file_extension": ".py",
   "mimetype": "text/x-python",
   "name": "python",
   "nbconvert_exporter": "python",
   "pygments_lexer": "ipython3",
   "version": "3.6.7"
  }
 },
 "nbformat": 4,
 "nbformat_minor": 2
}
